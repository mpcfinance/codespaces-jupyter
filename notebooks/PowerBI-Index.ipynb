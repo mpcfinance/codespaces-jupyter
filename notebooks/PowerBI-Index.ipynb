{
 "cells": [
  {
   "cell_type": "markdown",
   "metadata": {},
   "source": [
    ">[Central Reports](https://app.powerbi.com/Redirect?action=OpenReport&appId=b69d60e0-a9d3-4343-a2c6-fc72ad40fbc1&reportObjectId=bc3472b4-91a4-482d-a608-881e78dfbb35&ctid=9b94e12c-00d4-42e3-92e6-4c8f86b256ea&reportPage=ReportSection&pbi_source=appShareLink&portalSessionId=0293e977-fcbe-45a8-93e5-15c6d3d8f603)\n",
    ">Consolidated Financials | Receivables Ageing\n",
    ">3. Indirect Expenses"
   ]
  },
  {
   "cell_type": "markdown",
   "metadata": {},
   "source": [
    ">[Development](https://app.powerbi.com/Redirect?action=OpenReport&appId=0ea2a51b-05a0-41b6-a670-8df5691ffe17&reportObjectId=428a47ea-f51e-45e4-8b25-ed0c1e6a410b&ctid=9b94e12c-00d4-42e3-92e6-4c8f86b256ea&reportPage=ReportSection2324c8c4397db00e769a&pbi_source=appShareLink&portalSessionId=0293e977-fcbe-45a8-93e5-15c6d3d8f603)\n",
    ">1. Inventory\n",
    ">2. Credit Control"
   ]
  },
  {
   "cell_type": "markdown",
   "metadata": {},
   "source": [
    ">[MPC & VTE](https://app.powerbi.com/Redirect?action=OpenReport&appId=4758fe13-b4b0-4235-955b-f10bde2484ab&reportObjectId=14bb4e35-9f13-4728-9309-21589c9d093a&ctid=9b94e12c-00d4-42e3-92e6-4c8f86b256ea&reportPage=ReportSection579e9c705753edacf338&pbi_source=appShareLink&portalSessionId=0293e977-fcbe-45a8-93e5-15c6d3d8f603)\n",
    ">1. MPC & VTE Financials"
   ]
  },
  {
   "cell_type": "markdown",
   "metadata": {},
   "source": [
    ">[Unicare](https://app.powerbi.com/Redirect?action=OpenReport&appId=2f2fdd79-6c82-4438-acee-420f144cf404&reportObjectId=b0ba5b8a-770e-48ba-8490-18014fb8f8d9&ctid=9b94e12c-00d4-42e3-92e6-4c8f86b256ea&reportPage=ReportSection579e9c705753edacf338&pbi_source=appShareLink&portalSessionId=0293e977-fcbe-45a8-93e5-15c6d3d8f603)\n",
    ">1. Unicare Financials"
   ]
  },
  {
   "cell_type": "markdown",
   "metadata": {},
   "source": [
    ">[Patient & Care](https://app.powerbi.com/Redirect?action=OpenReport&appId=94c88fab-3d41-43c6-a5bd-332d31034b26&reportObjectId=e3314488-0446-4120-a5cf-e771ad2f0e42&ctid=9b94e12c-00d4-42e3-92e6-4c8f86b256ea&reportPage=ReportSection449660c10d3e2d216a80&pbi_source=appShareLink&portalSessionId=0293e977-fcbe-45a8-93e5-15c6d3d8f603)\n",
    ">1. P&C Financials"
   ]
  }
 ],
 "metadata": {
  "language_info": {
   "name": "python"
  }
 },
 "nbformat": 4,
 "nbformat_minor": 2
}
